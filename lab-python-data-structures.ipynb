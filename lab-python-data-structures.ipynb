{
 "cells": [
  {
   "cell_type": "markdown",
   "metadata": {},
   "source": [
    "# Lab | Data Structures "
   ]
  },
  {
   "cell_type": "markdown",
   "metadata": {},
   "source": [
    "## Exercise 1: Working with Lists"
   ]
  },
  {
   "cell_type": "markdown",
   "metadata": {},
   "source": [
    "Imagine you are building a program for a teacher who wants to track the progress of their students throughout the semester. The teacher wants to input the grades of each student one by one, and get a summary of their performance. There are in total 5 students. You are tasked with building the program that will allow the teacher to do this easily.\n",
    "\n",
    "The program will prompt the teacher to enter the grades of each student. Once the teacher has entered all the grades, the program will calculate the total sum of the grades and display it on the screen. Then, the program will create a new list by selecting only the grades of the first, third, and fifth students entered by the teacher, and sort them in ascending order.\n",
    "\n",
    "Finally, the program will print out the new list, along with its length and the number of occurrences of the score 5 in the list. This will give the teacher a good overview of the performance of the selected students, and help them identify any potential issues early on."
   ]
  },
  {
   "cell_type": "markdown",
   "metadata": {},
   "source": [
    "*Hint:*\n",
    "- You can use the input() function to ask the user to enter their information.\n",
    "- Look for list methods to perform the tasks. \n",
    "- Remember, it is possible to get a part of the sequence using:\n",
    "\n",
    "    ```python\n",
    "    sequence[x:y:z]\n",
    "    ```\n",
    "    where x, y, z are integers.\n",
    "\n",
    "    The above returns a new sequence with the following characteristics:\n",
    "\n",
    "    - A sequence with the same type as the original (a slice of a list is a list, a slice of a tuple is a tuple, and a slice of a string is a string).\n",
    "    - A sequence with elements from `sequence [x]` to `sequence [y-1]` (does not include a sequence [y]). By skipping `z` elements each time, it can be omitted if ` z = 1`.\n"
   ]
  },
  {
   "cell_type": "markdown",
   "metadata": {},
   "source": [
    "*Recommended External Resources:*\n",
    "- *[Python Lists](https://www.w3schools.com/python/python_lists.asp)*\n",
    "- *[Python List Methods](https://www.w3schools.com/python/python_ref_list.asp)*\n",
    "- *[Python Built-in Functions](https://docs.python.org/3/library/functions.html)*\n"
   ]
  },
  {
   "cell_type": "code",
   "execution_count": 22,
   "metadata": {},
   "outputs": [
    {
     "name": "stdout",
     "output_type": "stream",
     "text": [
      "The total sum is: 25.6\n",
      "The new list is: [5.0, 5.6, 7.0]\n",
      "It´s length: 3\n",
      "The number of ocurrences of score 5 is: 1\n"
     ]
    }
   ],
   "source": [
    "# Your code here\n",
    "try:\n",
    "    marks_list = [float(input(f\"Enter the mark of student {x+1}\")) for x in range(5)]\n",
    "except TypeError:\n",
    "    print(\"You added a mark that is not a number\")\n",
    "print(f\"The total sum is: {sum(marks_list)}\")\n",
    "\n",
    "selected_marks = [marks_list[x] for x in range(5) if x%2==0]\n",
    "selected_marks.sort()\n",
    "\n",
    "num_ocurrs = selected_marks.count(5)\n",
    "# num_ocurrs = sum(1 for x in selected_marks if x == 5) ALT\n",
    "\n",
    "print(f\"The new list is: {selected_marks}\\nIt´s length: {len(selected_marks)}\\nThe number of ocurrences of score 5 is: {num_ocurrs}\")\n",
    "    \n"
   ]
  },
  {
   "cell_type": "markdown",
   "metadata": {},
   "source": [
    "## Exercise 2: Tuples"
   ]
  },
  {
   "cell_type": "markdown",
   "metadata": {},
   "source": [
    "Imagine you're running a fruit stand and want to keep track of your inventory. Write a Python program that does the following:\n",
    "\n",
    "- Initializes a tuple with 5 different types of fruit.\n",
    "- Outputs the first and last elements of the tuple, so you can see the full range of fruits the store offers.\n",
    "- Replaces the second element of the tuple with a new fruit that the store has recently received, and prints the updated tuple so you can see the changes.\n",
    "- Concatenates a new tuple containing 2 additional fruits to the original tuple, so you can add them to the store inventory, and prints the resulting tuple to see the updated inventory.\n",
    "- Splits the resulting tuple into 2 tuples of 3 elements each (the first tuple contains the first 3 elements, and the second tuple contains the last 3 elements), so you can organize the inventory more effectively.\n",
    "- Combines the 2 tuples from the previous step with the original tuple into a new tuple, and prints the resulting tuple and its length, so you can see the final inventory after all the changes."
   ]
  },
  {
   "cell_type": "markdown",
   "metadata": {},
   "source": [
    "*Recommended External Resources: [Python Tuples Examples and Methods](https://www.w3schools.com/python/python_tuples.asp)*\n",
    "\n"
   ]
  },
  {
   "cell_type": "code",
   "execution_count": 37,
   "metadata": {},
   "outputs": [
    {
     "name": "stdout",
     "output_type": "stream",
     "text": [
      "banana tomatoe\n",
      "('banana', 'kiwi', 'apple', 'watermelon', 'tomatoe')\n",
      "('banana', 'kiwi', 'apple', 'watermelon', 'tomatoe', 'coco', 'pineapple')\n",
      "The final inventory is ('banana', 'kiwi', 'apple', 'watermelon', 'tomatoe', 'coco', 'pineapple', 'banana', 'kiwi', 'apple', 'watermelon', 'tomatoe', 'coco', 'pineapple') and it´s lenth: 14\n"
     ]
    }
   ],
   "source": [
    "# Enunciado mal, tenemos 5+2 elementos y pide dividirlos en 2 tuplas de 3 cada uno\n",
    "\n",
    "fruits = (\"banana\", \"pear\", \"apple\", \"watermelon\", \"tomatoe\")\n",
    "\n",
    "print(fruits[0], fruits[-1])\n",
    "\n",
    "new_catalog = list(fruits)\n",
    "\n",
    "new_catalog[1] = \"kiwi\"\n",
    "\n",
    "fruits = tuple(new_catalog)\n",
    "\n",
    "print(fruits)\n",
    "\n",
    "add_fruits = (\"coco\", \"pineapple\")\n",
    "\n",
    "fruits += add_fruits\n",
    "\n",
    "print(fruits)\n",
    "\n",
    "new_list1 = []\n",
    "new_list2 = []\n",
    "\n",
    "for i, fruit in enumerate(fruits):              # i = 0,1,2...  fruit = \"banana\", \"pear\", \"apple\", ...\n",
    "    if i < 3:\n",
    "        new_list1.append(fruit)\n",
    "    else:\n",
    "        new_list2.append(fruit)\n",
    "\n",
    "new_tuple1 = tuple(new_list1)\n",
    "new_tuple2 = tuple(new_list2)\n",
    "\n",
    "final_tuple = fruits + new_tuple1 + new_tuple2\n",
    "\n",
    "print(f\"The final inventory is {final_tuple} and it´s lenth: {len(final_tuple)}\")\n"
   ]
  },
  {
   "cell_type": "markdown",
   "metadata": {},
   "source": [
    "## Exercise 3: Sets"
   ]
  },
  {
   "cell_type": "markdown",
   "metadata": {},
   "source": [
    "Imagine you are a data analyst working for a literature museum. Your manager has given you two poems to analyze, and she wants you to write a Python program to extract useful information from them.\n",
    "\n",
    "Your program should:\n",
    "\n",
    "- Create two sets, one for each poem, containing all unique words in both poems (ignoring case and punctuation).\n",
    "- Print the number of unique words in each set.\n",
    "- Identify and print the unique words present in the first poem but not in the second one.\n",
    "- Identify and print the unique words present in the second poem but not in the first one.\n",
    "- Identify and print the unique words present in both poems and print it in alphabetical order."
   ]
  },
  {
   "cell_type": "markdown",
   "metadata": {},
   "source": [
    "*Recommended External Resources:*\n",
    "- *[Python Sets](https://www.w3schools.com/python/python_sets.asp)* \n",
    "- *[Python Set Methods](https://www.w3schools.com/python/python_ref_set.asp)*\n",
    "- *[Python String Methods](https://www.w3schools.com/python/python_ref_string.asp)*\n"
   ]
  },
  {
   "cell_type": "code",
   "execution_count": 65,
   "metadata": {},
   "outputs": [],
   "source": [
    "poem = \"\"\"Some say the world will end in fire,\n",
    "Some say in ice.\n",
    "From what I’ve tasted of desire\n",
    "I hold with those who favor fire.\n",
    "But if it had to perish twice,\n",
    "I think I know enough of hate\n",
    "To say that for destruction ice\n",
    "Is also great\n",
    "And would suffice.\"\"\"\n",
    "\n",
    "new_poem = \"\"\"Some say life is but a dream,\n",
    "Some say it's a test.\n",
    "From what I've seen and what I deem,\n",
    "I side with those who see it as a quest.\n",
    "But if it had to end today,\n",
    "I think I know enough of love,\n",
    "To say that though it fades away,\n",
    "It's still what we are made of.\"\"\""
   ]
  },
  {
   "cell_type": "code",
   "execution_count": 66,
   "metadata": {},
   "outputs": [
    {
     "name": "stdout",
     "output_type": "stream",
     "text": [
      "Number of unique words in poem: 44\n",
      "Number of unique words in the new poem: 46\n",
      "Unique words in first poem set:\n",
      "['world', 'hold', 'destruction', 'will', 'And', 'the', 'twice,', 'also', 'hate', 'ice', 'would', 'I’ve', 'ice.', 'desire', 'favor', 'fire,', 'tasted', 'perish', 'great', 'suffice.', 'in', 'fire.', 'for', 'Is']\n",
      "Unique words in second poem set:\n",
      "['of.', 'though', 'is', 'but', 'deem,', 'today,', 'made', 'love,', 'away,', 'quest.', 'a', 'test.', \"it's\", 'see', 'seen', 'dream,', 'fades', 'and', 'still', 'we', 'life', 'as', 'side', \"It's\", \"I've\", 'are']\n",
      "['And', \"I've\", 'Is', \"It's\", 'I’ve', 'a', 'also', 'and', 'are', 'as', 'away,', 'but', 'deem,', 'desire', 'destruction', 'dream,', 'fades', 'favor', 'fire,', 'fire.', 'for', 'great', 'hate', 'hold', 'ice', 'ice.', 'in', 'is', \"it's\", 'life', 'love,', 'made', 'of.', 'perish', 'quest.', 'see', 'seen', 'side', 'still', 'suffice.', 'tasted', 'test.', 'the', 'though', 'today,', 'twice,', 'we', 'will', 'world', 'would']\n"
     ]
    }
   ],
   "source": [
    "# Your code here\n",
    "\n",
    "poem_set = set()\n",
    "new_poem_set = set()\n",
    "\n",
    "poem_set = {x for x in poem.replace(\"\\n\",\" \").split(\" \")}\n",
    "new_poem_set = {x for x in new_poem.replace(\"\\n\",\" \").split(\" \")}\n",
    "\n",
    "print(f\"Number of unique words in poem: {len(poem_set)}\\nNumber of unique words in the new poem: {len(new_poem_set)}\")\n",
    "\n",
    "print(\"Unique words in first poem set:\")\n",
    "unique_poem = [x for x in poem_set if x not in new_poem_set]\n",
    "print(unique_poem)\n",
    "\n",
    "print(\"Unique words in second poem set:\")\n",
    "unique_new_poem = [x for x in new_poem_set if x not in poem_set]\n",
    "print(unique_new_poem)\n",
    "\n",
    "unique_together = unique_poem + unique_new_poem\n",
    "unique_together.sort()\n",
    "\n",
    "print(unique_together)\n",
    "\n"
   ]
  },
  {
   "cell_type": "markdown",
   "metadata": {},
   "source": [
    "## Exercise 4: Dictionaries"
   ]
  },
  {
   "cell_type": "markdown",
   "metadata": {},
   "source": [
    "Consider the following dictionary of students with their scores in different subjects. One of the students, Bob, has complained about his score in Philosophy and, after reviewing it, the teacher has decided to update his score to 100. Write a Python program that updates Bob's score in Philosophy to 100 in the dictionary."
   ]
  },
  {
   "cell_type": "markdown",
   "metadata": {},
   "source": [
    "*Recommended External Resources: [Python Dictionary Examples and Methods](https://www.w3schools.com/python/python_dictionaries.asp)*\n"
   ]
  },
  {
   "cell_type": "code",
   "execution_count": 68,
   "metadata": {},
   "outputs": [],
   "source": [
    "grades = {'Alice': {'Physics': 75, 'Math': 85, 'Chemistry': 60, 'Philosophy': 90}, 'Bob': {'Physics': 75, 'Math': 85, 'Chemistry': 60, 'Philosophy': 90}}"
   ]
  },
  {
   "cell_type": "code",
   "execution_count": 71,
   "metadata": {},
   "outputs": [
    {
     "data": {
      "text/plain": [
       "{'Alice': {'Physics': 75, 'Math': 85, 'Chemistry': 60, 'Philosophy': 90},\n",
       " 'Bob': {'Physics': 75, 'Math': 85, 'Chemistry': 60, 'Philosophy': 100}}"
      ]
     },
     "execution_count": 71,
     "metadata": {},
     "output_type": "execute_result"
    }
   ],
   "source": [
    "# Your code here\n",
    "grades['Bob']['Philosophy'] = 100\n",
    "\n",
    "grades"
   ]
  },
  {
   "cell_type": "markdown",
   "metadata": {},
   "source": [
    "## Bonus"
   ]
  },
  {
   "cell_type": "markdown",
   "metadata": {},
   "source": [
    "1. Below are the two lists. Write a Python program to convert them into a dictionary in a way that item from list1 is the key and item from list2 is the value."
   ]
  },
  {
   "cell_type": "markdown",
   "metadata": {},
   "source": [
    "*Hint: Use the zip() function. This function takes two or more iterables (like list, dict, string), aggregates them in a tuple, and returns it. Afterwards, you can use a function that turns a tuple into a dictionary.*"
   ]
  },
  {
   "cell_type": "markdown",
   "metadata": {},
   "source": [
    "*Recommended External Resources: [Python Zip Function](https://www.w3schools.com/python/ref_func_zip.asp)*\n"
   ]
  },
  {
   "cell_type": "code",
   "execution_count": 78,
   "metadata": {},
   "outputs": [
    {
     "data": {
      "text/plain": [
       "{'Physics': 75, 'Math': 85, 'Chemistry': 60, 'Philosophy': 90}"
      ]
     },
     "execution_count": 78,
     "metadata": {},
     "output_type": "execute_result"
    }
   ],
   "source": [
    "keys = ['Physics', 'Math', 'Chemistry', 'Philosophy']\n",
    "values = [75, 85, 60,90]\n",
    "\n",
    "# Your code here\n",
    "\n",
    "x = dict(zip(keys, values))\n",
    "x"
   ]
  },
  {
   "cell_type": "markdown",
   "metadata": {},
   "source": [
    "2. Get the subject with the minimum score from the previous dictionary."
   ]
  },
  {
   "cell_type": "markdown",
   "metadata": {},
   "source": [
    "*Hint: Use the built-in function min(). Read about the parameter key.*"
   ]
  },
  {
   "cell_type": "markdown",
   "metadata": {},
   "source": [
    "\n",
    "*Recommended External Resources:*\n",
    "- *[Python Min Function Official Documentation](https://docs.python.org/3.8/library/functions.html#min)*\n",
    "- *[How to use key function in max and min in Python](https://medium.com/analytics-vidhya/how-to-use-key-function-in-max-and-min-in-python-1fdbd661c59c)*"
   ]
  },
  {
   "cell_type": "code",
   "execution_count": 80,
   "metadata": {},
   "outputs": [
    {
     "data": {
      "text/plain": [
       "'Chemistry'"
      ]
     },
     "execution_count": 80,
     "metadata": {},
     "output_type": "execute_result"
    }
   ],
   "source": [
    "# Your code here\n",
    "\n",
    "min_score = min(x)\n",
    "min_score"
   ]
  }
 ],
 "metadata": {
  "kernelspec": {
   "display_name": "Python 3 (ipykernel)",
   "language": "python",
   "name": "python3"
  },
  "language_info": {
   "codemirror_mode": {
    "name": "ipython",
    "version": 3
   },
   "file_extension": ".py",
   "mimetype": "text/x-python",
   "name": "python",
   "nbconvert_exporter": "python",
   "pygments_lexer": "ipython3",
   "version": "3.11.9"
  }
 },
 "nbformat": 4,
 "nbformat_minor": 4
}
